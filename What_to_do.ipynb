{
 "cells": [
  {
   "attachments": {},
   "cell_type": "markdown",
   "metadata": {},
   "source": [
    "### steps\n",
    "<ol>\n",
    "  <li>Start git with the following branches\n",
    "    <ul>\n",
    "      <li>main</li>\n",
    "      <li>release</li>\n",
    "      <li>develop</li>\n",
    "      <li>feature1, feature2, ...</li>\n",
    "    </ul>\n",
    "  </li>\n",
    "  <li>Create .gitgnore and include: **/__pycache__</li> \n",
    "  <pre>                     .pytest_cache</pre> \n",
    "  <li>Isolating the environment: virtualenv -p python3 venv</li>\n",
    "  <li>Entering this environment: . venv/bin/activate</li>\n",
    "  <li>In order to maintain the good practices of PEP 8: pip3 install pylint black black[jupyter]</li>\n",
    "  <li>Install flake8: pip3 install flake8. and then write a \".flake8\" file with the content: <br>\"[flake8] <br>\n",
    "ignore = E722, W503 <br>\n",
    "max-line-length=120 <br>\n",
    "per-file-ignore = <br>\n",
    "<pre>     __init__.py :F401\"</li></pre>\n",
    "  <li>Installing the pytest: pip3 install Pytest</li>\n",
    "  <li>Saving the dependencies of this environment in the requirement: venv/bin/pip3 freeze > requirements.txt</li>\n",
    "  <li>Downloading and installing the python pre-commit: \n",
    "    <ul>\n",
    "      <li>pip3 install pre-commit</li>\n",
    "      <li>sudo apt install pre-commit</li>\n",
    "      <li>pre-commit install</li>\n",
    "    </ul>\n",
    "  <li>Creating the yaml file: .pre-commit-config.yaml</li>\n",
    "  <li>To install the dependences we just need to run: venv/bin/pip3 install -r requirements.txt</li>\n",
    "\n",
    "</ol>"
   ]
  }
 ],
 "metadata": {
  "kernelspec": {
   "display_name": "Python 3",
   "language": "python",
   "name": "python3"
  },
  "language_info": {
   "name": "python",
   "version": "3.10.9 (tags/v3.10.9:1dd9be6, Dec  6 2022, 20:01:21) [MSC v.1934 64 bit (AMD64)]"
  },
  "orig_nbformat": 4,
  "vscode": {
   "interpreter": {
    "hash": "49edd3d5b0456fd4c3a679a67b42c4541c2909776133da789695cfac2f7c5b50"
   }
  }
 },
 "nbformat": 4,
 "nbformat_minor": 2
}
